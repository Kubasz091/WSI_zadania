{
 "cells": [
  {
   "cell_type": "code",
   "execution_count": 25,
   "metadata": {},
   "outputs": [],
   "source": [
    "import numpy as np\n",
    "import matplotlib.pyplot as plt\n",
    "from abc import ABC, abstractmethod\n",
    "from matplotlib.colors import ListedColormap\n",
    "import matplotlib.patches as mpatches\n",
    "import imageio\n",
    "import os\n",
    "\n",
    "np.random.seed(0)"
   ]
  },
  {
   "cell_type": "code",
   "execution_count": 26,
   "metadata": {},
   "outputs": [],
   "source": [
    "class Solver(ABC):\n",
    "    \"\"\"A solver. It may be initialized with some hyperparameters.\"\"\"\n",
    "\n",
    "    @abstractmethod\n",
    "    def get_parameters(self):\n",
    "        \"\"\"Returns a dictionary of hyperparameters\"\"\"\n",
    "        pass\n",
    "\n",
    "    @abstractmethod\n",
    "    def solve(self, problem, pop0, *args, **kwargs):\n",
    "        \"\"\"\n",
    "        A method that solves the given problem for given initial solutions.\n",
    "        It may accept or require additional parameters.\n",
    "        Returns the solution and may return additional info.\n",
    "        \"\"\"\n",
    "        pass\n"
   ]
  },
  {
   "cell_type": "code",
   "execution_count": 27,
   "metadata": {},
   "outputs": [],
   "source": [
    "def highligt_pixels(x):\n",
    "    n = int(len(x) ** (0.5))\n",
    "    checked = [[False] * n for _ in range(n)]\n",
    "    avaliable = [[False] * n for _ in range(n)]\n",
    "\n",
    "    to_check = []\n",
    "\n",
    "    for i in range(n): # accessible from outside\n",
    "        to_check.append((i, 0))\n",
    "        to_check.append((i, n- 1))\n",
    "        to_check.append((0, i))\n",
    "        to_check.append((n- 1, i))\n",
    "\n",
    "    while to_check:\n",
    "        i, j = to_check.pop()\n",
    "\n",
    "        if checked[i][j]:\n",
    "            continue\n",
    "\n",
    "        checked[i][j] = True\n",
    "\n",
    "        if x[i * n + j]: # parking spot\n",
    "            avaliable[i][j] = True\n",
    "\n",
    "        else: # road\n",
    "            if i > 0:\n",
    "                to_check.append((i- 1, j))\n",
    "            if i < n- 1:\n",
    "                to_check.append((i + 1, j))\n",
    "            if j > 0:\n",
    "                to_check.append((i, j- 1))\n",
    "            if j < n- 1:\n",
    "                to_check.append((i, j + 1))\n",
    "    return np.array(avaliable).flatten()"
   ]
  },
  {
   "cell_type": "code",
   "execution_count": 28,
   "metadata": {},
   "outputs": [],
   "source": [
    "def evaluate(x):\n",
    "    n = int(len(x) ** (0.5))\n",
    "    checked = [[False] * n for _ in range(n)]\n",
    "    avaliable = [[False] * n for _ in range(n)]\n",
    "\n",
    "    to_check = []\n",
    "\n",
    "    for i in range(n): # accessible from outside\n",
    "        to_check.append((i, 0))\n",
    "        to_check.append((i, n- 1))\n",
    "        to_check.append((0, i))\n",
    "        to_check.append((n- 1, i))\n",
    "\n",
    "    while to_check:\n",
    "        i, j = to_check.pop()\n",
    "\n",
    "        if checked[i][j]:\n",
    "            continue\n",
    "\n",
    "        checked[i][j] = True\n",
    "\n",
    "        if x[i * n + j]: # parking spot\n",
    "            avaliable[i][j] = True\n",
    "\n",
    "        else: # road\n",
    "            if i > 0:\n",
    "                to_check.append((i- 1, j))\n",
    "            if i < n- 1:\n",
    "                to_check.append((i + 1, j))\n",
    "            if j > 0:\n",
    "                to_check.append((i, j- 1))\n",
    "            if j < n- 1:\n",
    "                to_check.append((i, j + 1))\n",
    "    return sum(sum(row) for row in avaliable)"
   ]
  },
  {
   "cell_type": "code",
   "execution_count": 29,
   "metadata": {},
   "outputs": [],
   "source": [
    "def visualize_layout(layout, evaluation, save=False, name='layout.jpg', show=True, dpi=300):\n",
    "    size = 5 # size of the plot\n",
    "\n",
    "    layout_2d = layout.reshape((10, 10))\n",
    "    evaluation_2d = evaluation.reshape((10, 10))\n",
    "\n",
    "    fig, ax = plt.subplots(figsize=(size+2, size))\n",
    "\n",
    "    colors = np.zeros(layout_2d.shape, dtype=int)\n",
    "    colors[layout_2d == 1] = 1  # inaccessible parking spot\n",
    "    colors[evaluation_2d == 1] = 2  # accessible parking spot\n",
    "\n",
    "    cmap = ListedColormap(['lightgrey', 'red', 'green'])\n",
    "\n",
    "    im = ax.imshow(colors, cmap=cmap)\n",
    "\n",
    "    # Add black edges to the parking spots\n",
    "    for i in range(10):\n",
    "        for j in range(10):\n",
    "            if layout_2d[i, j] == 1 or evaluation_2d[i, j] == 1:\n",
    "                ax.add_patch(mpatches.Rectangle((j-0.5, i-0.5), 1, 1, fill=False, edgecolor='black'))\n",
    "\n",
    "    # Write '1' on all parking spot pixels\n",
    "    for i in range(10):\n",
    "        for j in range(10):\n",
    "            if layout_2d[i, j] == 1 or evaluation_2d[i, j] == 1:\n",
    "                ax.text(j, i, '1', ha='center', va='center', color='black', style='italic', fontweight='bold')\n",
    "\n",
    "    road_patch = mpatches.Patch(color='lightgrey', label='Road')\n",
    "    inaccessible_patch = mpatches.Patch(color='red', label='Inaccessible Parking Spot')\n",
    "    accessible_patch = mpatches.Patch(color='green', label='Accessible Parking Spot')\n",
    "\n",
    "    ax.legend(handles=[road_patch, inaccessible_patch, accessible_patch], bbox_to_anchor=(1.05, 1), loc='upper left')\n",
    "\n",
    "    plt.xticks(np.arange(10), np.arange(10))\n",
    "    plt.yticks(np.arange(10), np.arange(10))\n",
    "\n",
    "    plt.title('Layout visualization')\n",
    "\n",
    "    if save:\n",
    "        plt.savefig(name, format='jpg', dpi = dpi, bbox_inches='tight')\n",
    "    if show:\n",
    "        plt.show()\n",
    "    plt.close()"
   ]
  },
  {
   "cell_type": "code",
   "execution_count": 30,
   "metadata": {},
   "outputs": [
    {
     "data": {
      "image/png": "[encoded data removed]",
      "text/plain": [
       "<Figure size 700x500 with 1 Axes>"
      ]
     },
     "metadata": {},
     "output_type": "display_data"
    },
    {
     "data": {
      "text/plain": [
       "61"
      ]
     },
     "execution_count": 30,
     "metadata": {},
     "output_type": "execute_result"
    }
   ],
   "source": [
    "x = [1, 1, 1, 1, 1, 1, 0, 1, 1, 1, 0, 0, 1, 1, 1, 1, 0, 1, 0, 1, 1, 1, 1, 0, 0, 1, 0, 1, 1, 0, 1, 1, 0, 0, 0, 0, 1, 1, 1, 1, 0, 0, 0, 1, 0, 0, 1, 0, 1, 1, 1, 1, 1, 1, 0, 0, 0, 1, 0, 1, 0, 0, 0, 1, 1, 1, 0, 0, 0, 0, 1, 1, 0, 1, 1, 1, 1, 0, 0, 1, 1, 1, 1, 1, 0, 0, 1, 1, 1, 1, 1, 1, 1, 1, 1, 0, 1, 1, 1, 1]\n",
    "x = np.array(x)\n",
    "\n",
    "visualize_layout(x, highligt_pixels(x), save=True, name='layout.jpg', show=True, dpi=300)\n",
    "evaluate(x)"
   ]
  },
  {
   "cell_type": "code",
   "execution_count": 31,
   "metadata": {},
   "outputs": [],
   "source": [
    "def generate_gif(layouts, filename):\n",
    "    images = []\n",
    "    for layout in layouts:\n",
    "        # Visualize the layout and save it as an image\n",
    "        visualize_layout(layout, highligt_pixels(layout), save=True, name='temp.jpg', show=False, dpi=200)\n",
    "        # Read the image and append it to the images list\n",
    "        images.append(imageio.imread('temp.jpg'))\n",
    "    # Generate the GIF\n",
    "    imageio.mimsave(filename, images)\n",
    "    # Remove the temporary image\n",
    "    os.remove('temp.jpg')"
   ]
  },
  {
   "cell_type": "code",
   "execution_count": 32,
   "metadata": {},
   "outputs": [],
   "source": [
    "class GeneticSolver(Solver):\n",
    "    def __init__(self, mutation_rate, population_size, crossover_rate ,evaluation_method):\n",
    "        self.mutation_rate = mutation_rate\n",
    "        self.population_size = population_size\n",
    "        self.evaluation_method = evaluation_method\n",
    "        self.history = []\n",
    "        self.population = None\n",
    "\n",
    "    def get_parameters(self):\n",
    "        return {'mutation_rate': self.mutation_rate, 'population_size': self.population_size}\n",
    "\n",
    "    def clear_population(self):\n",
    "        self.population = None\n",
    "        self.history = []\n",
    "\n",
    "    def solve(self, pop0, generations):\n",
    "        self.population = pop0\n",
    "        self.history.append(self.population.copy())\n",
    "        for _ in range(generations):\n",
    "            self._evolve()\n",
    "            self.history.append(self.population.copy())\n",
    "\n",
    "        x_best, i = self._best_solution()\n",
    "        return x_best, [frame[i] for frame in self.history]\n",
    "\n",
    "    def _evolve(self):\n",
    "        offspring = self._reproduce()\n",
    "        self._mutate(offspring)\n",
    "        return offspring\n",
    "\n",
    "    def _reproduce(self):\n",
    "        offspring = []\n",
    "        for _ in range(len(self.population)):\n",
    "            parent1 = self._select()\n",
    "            parent2 = self._select()\n",
    "            child = self._crossover(parent1, parent2)\n",
    "            offspring.append(child)\n",
    "        return offspring\n",
    "\n",
    "    def _select(self):\n",
    "        fitnesses = [self.evaluation_method(individual) for individual in self.population]\n",
    "        total_fitness = sum(fitnesses)\n",
    "        probabilities = [fitness / total_fitness for fitness in fitnesses]\n",
    "        return self.population[np.random.choice(range(len(self.population)), p=probabilities)]\n",
    "\n",
    "    def _crossover(self, parent1, parent2):\n",
    "        crossover_point = np.random.randint(len(parent1))\n",
    "        return np.concatenate((parent1[:crossover_point], parent2[crossover_point:]))\n",
    "\n",
    "    def _mutate(self, offspring):\n",
    "        for individual in offspring:\n",
    "            if np.random.random() < self.mutation_rate:\n",
    "                mutation_point = np.random.randint(len(individual))\n",
    "                individual[mutation_point] = 1 - individual[mutation_point]\n",
    "\n",
    "    def _best_solution(self):\n",
    "        fitnesses = [self.evaluation_method(individual) for individual in self.population]\n",
    "        return self.population[np.argmax(fitnesses)], np.argmax(fitnesses)"
   ]
  },
  {
   "cell_type": "code",
   "execution_count": 33,
   "metadata": {},
   "outputs": [],
   "source": [
    "solver = GeneticSolver(mutation_rate=0.01, population_size=10, crossover_rate=0.6,evaluation_method=evaluate)\n",
    "\n",
    "population = np.random.choice([0, 1], size=(50, 100), p=[0.8, 0.2])\n",
    "\n",
    "# visualize_layout(population[0], highligt_pixels(population[0]), save=True, name='random_parking.jpg')\n",
    "\n",
    "x_best, history = solver.solve(population, 10)"
   ]
  },
  {
   "cell_type": "code",
   "execution_count": 34,
   "metadata": {},
   "outputs": [
    {
     "name": "stdout",
     "output_type": "stream",
     "text": [
      "[array([0, 1, 1, 1, 0, 0, 0, 1, 0, 1, 0, 1, 1, 0, 0, 0, 0, 0, 0, 0, 1, 1,\n",
      "       1, 0, 1, 0, 0, 0, 0, 0, 0, 0, 0, 0, 0, 0, 0, 0, 0, 0, 0, 0, 1, 0,\n",
      "       1, 0, 0, 0, 1, 0, 0, 0, 0, 1, 0, 0, 0, 0, 0, 1, 0, 0, 0, 0, 1, 1,\n",
      "       1, 0, 1, 0, 0, 0, 0, 0, 0, 0, 0, 0, 1, 0, 0, 0, 0, 0, 0, 1, 0, 0,\n",
      "       0, 0, 0, 1, 1, 0, 0, 1, 0, 0, 1, 0]), array([0, 1, 1, 1, 0, 0, 0, 1, 0, 1, 0, 1, 1, 0, 0, 0, 0, 0, 0, 0, 1, 1,\n",
      "       1, 0, 1, 0, 0, 0, 0, 0, 0, 0, 0, 0, 0, 0, 0, 0, 0, 0, 0, 0, 1, 0,\n",
      "       1, 0, 0, 0, 1, 0, 0, 0, 0, 1, 0, 0, 0, 0, 0, 1, 0, 0, 0, 0, 1, 1,\n",
      "       1, 0, 1, 0, 0, 0, 0, 0, 0, 0, 0, 0, 1, 0, 0, 0, 0, 0, 0, 1, 0, 0,\n",
      "       0, 0, 0, 1, 1, 0, 0, 1, 0, 0, 1, 0]), array([0, 1, 1, 1, 0, 0, 0, 1, 0, 1, 0, 1, 1, 0, 0, 0, 0, 0, 0, 0, 1, 1,\n",
      "       1, 0, 1, 0, 0, 0, 0, 0, 0, 0, 0, 0, 0, 0, 0, 0, 0, 0, 0, 0, 1, 0,\n",
      "       1, 0, 0, 0, 1, 0, 0, 0, 0, 1, 0, 0, 0, 0, 0, 1, 0, 0, 0, 0, 1, 1,\n",
      "       1, 0, 1, 0, 0, 0, 0, 0, 0, 0, 0, 0, 1, 0, 0, 0, 0, 0, 0, 1, 0, 0,\n",
      "       0, 0, 0, 1, 1, 0, 0, 1, 0, 0, 1, 0]), array([0, 1, 1, 1, 0, 0, 0, 1, 0, 1, 0, 1, 1, 0, 0, 0, 0, 0, 0, 0, 1, 1,\n",
      "       1, 0, 1, 0, 0, 0, 0, 0, 0, 0, 0, 0, 0, 0, 0, 0, 0, 0, 0, 0, 1, 0,\n",
      "       1, 0, 0, 0, 1, 0, 0, 0, 0, 1, 0, 0, 0, 0, 0, 1, 0, 0, 0, 0, 1, 1,\n",
      "       1, 0, 1, 0, 0, 0, 0, 0, 0, 0, 0, 0, 1, 0, 0, 0, 0, 0, 0, 1, 0, 0,\n",
      "       0, 0, 0, 1, 1, 0, 0, 1, 0, 0, 1, 0]), array([0, 1, 1, 1, 0, 0, 0, 1, 0, 1, 0, 1, 1, 0, 0, 0, 0, 0, 0, 0, 1, 1,\n",
      "       1, 0, 1, 0, 0, 0, 0, 0, 0, 0, 0, 0, 0, 0, 0, 0, 0, 0, 0, 0, 1, 0,\n",
      "       1, 0, 0, 0, 1, 0, 0, 0, 0, 1, 0, 0, 0, 0, 0, 1, 0, 0, 0, 0, 1, 1,\n",
      "       1, 0, 1, 0, 0, 0, 0, 0, 0, 0, 0, 0, 1, 0, 0, 0, 0, 0, 0, 1, 0, 0,\n",
      "       0, 0, 0, 1, 1, 0, 0, 1, 0, 0, 1, 0]), array([0, 1, 1, 1, 0, 0, 0, 1, 0, 1, 0, 1, 1, 0, 0, 0, 0, 0, 0, 0, 1, 1,\n",
      "       1, 0, 1, 0, 0, 0, 0, 0, 0, 0, 0, 0, 0, 0, 0, 0, 0, 0, 0, 0, 1, 0,\n",
      "       1, 0, 0, 0, 1, 0, 0, 0, 0, 1, 0, 0, 0, 0, 0, 1, 0, 0, 0, 0, 1, 1,\n",
      "       1, 0, 1, 0, 0, 0, 0, 0, 0, 0, 0, 0, 1, 0, 0, 0, 0, 0, 0, 1, 0, 0,\n",
      "       0, 0, 0, 1, 1, 0, 0, 1, 0, 0, 1, 0]), array([0, 1, 1, 1, 0, 0, 0, 1, 0, 1, 0, 1, 1, 0, 0, 0, 0, 0, 0, 0, 1, 1,\n",
      "       1, 0, 1, 0, 0, 0, 0, 0, 0, 0, 0, 0, 0, 0, 0, 0, 0, 0, 0, 0, 1, 0,\n",
      "       1, 0, 0, 0, 1, 0, 0, 0, 0, 1, 0, 0, 0, 0, 0, 1, 0, 0, 0, 0, 1, 1,\n",
      "       1, 0, 1, 0, 0, 0, 0, 0, 0, 0, 0, 0, 1, 0, 0, 0, 0, 0, 0, 1, 0, 0,\n",
      "       0, 0, 0, 1, 1, 0, 0, 1, 0, 0, 1, 0]), array([0, 1, 1, 1, 0, 0, 0, 1, 0, 1, 0, 1, 1, 0, 0, 0, 0, 0, 0, 0, 1, 1,\n",
      "       1, 0, 1, 0, 0, 0, 0, 0, 0, 0, 0, 0, 0, 0, 0, 0, 0, 0, 0, 0, 1, 0,\n",
      "       1, 0, 0, 0, 1, 0, 0, 0, 0, 1, 0, 0, 0, 0, 0, 1, 0, 0, 0, 0, 1, 1,\n",
      "       1, 0, 1, 0, 0, 0, 0, 0, 0, 0, 0, 0, 1, 0, 0, 0, 0, 0, 0, 1, 0, 0,\n",
      "       0, 0, 0, 1, 1, 0, 0, 1, 0, 0, 1, 0]), array([0, 1, 1, 1, 0, 0, 0, 1, 0, 1, 0, 1, 1, 0, 0, 0, 0, 0, 0, 0, 1, 1,\n",
      "       1, 0, 1, 0, 0, 0, 0, 0, 0, 0, 0, 0, 0, 0, 0, 0, 0, 0, 0, 0, 1, 0,\n",
      "       1, 0, 0, 0, 1, 0, 0, 0, 0, 1, 0, 0, 0, 0, 0, 1, 0, 0, 0, 0, 1, 1,\n",
      "       1, 0, 1, 0, 0, 0, 0, 0, 0, 0, 0, 0, 1, 0, 0, 0, 0, 0, 0, 1, 0, 0,\n",
      "       0, 0, 0, 1, 1, 0, 0, 1, 0, 0, 1, 0]), array([0, 1, 1, 1, 0, 0, 0, 1, 0, 1, 0, 1, 1, 0, 0, 0, 0, 0, 0, 0, 1, 1,\n",
      "       1, 0, 1, 0, 0, 0, 0, 0, 0, 0, 0, 0, 0, 0, 0, 0, 0, 0, 0, 0, 1, 0,\n",
      "       1, 0, 0, 0, 1, 0, 0, 0, 0, 1, 0, 0, 0, 0, 0, 1, 0, 0, 0, 0, 1, 1,\n",
      "       1, 0, 1, 0, 0, 0, 0, 0, 0, 0, 0, 0, 1, 0, 0, 0, 0, 0, 0, 1, 0, 0,\n",
      "       0, 0, 0, 1, 1, 0, 0, 1, 0, 0, 1, 0]), array([0, 1, 1, 1, 0, 0, 0, 1, 0, 1, 0, 1, 1, 0, 0, 0, 0, 0, 0, 0, 1, 1,\n",
      "       1, 0, 1, 0, 0, 0, 0, 0, 0, 0, 0, 0, 0, 0, 0, 0, 0, 0, 0, 0, 1, 0,\n",
      "       1, 0, 0, 0, 1, 0, 0, 0, 0, 1, 0, 0, 0, 0, 0, 1, 0, 0, 0, 0, 1, 1,\n",
      "       1, 0, 1, 0, 0, 0, 0, 0, 0, 0, 0, 0, 1, 0, 0, 0, 0, 0, 0, 1, 0, 0,\n",
      "       0, 0, 0, 1, 1, 0, 0, 1, 0, 0, 1, 0])]\n"
     ]
    }
   ],
   "source": [
    "print(history)"
   ]
  },
  {
   "cell_type": "code",
   "execution_count": 35,
   "metadata": {},
   "outputs": [
    {
     "data": {
      "image/png": "[encoded data removed]",
      "text/plain": [
       "<Figure size 700x500 with 1 Axes>"
      ]
     },
     "metadata": {},
     "output_type": "display_data"
    },
    {
     "name": "stdout",
     "output_type": "stream",
     "text": [
      "26\n"
     ]
    }
   ],
   "source": [
    "visualize_layout(x_best, highligt_pixels(x_best), save=True, name='best_parking_found.jpg')\n",
    "print(evaluate(x_best))"
   ]
  },
  {
   "cell_type": "code",
   "execution_count": 36,
   "metadata": {},
   "outputs": [
    {
     "name": "stderr",
     "output_type": "stream",
     "text": [
      "/tmp/ipykernel_6369/2612335963.py:7: DeprecationWarning: Starting with ImageIO v3 the behavior of this function will switch to that of iio.v3.imread. To keep the current behavior (and make this warning disappear) use `import imageio.v2 as imageio` or call `imageio.v2.imread` directly.\n",
      "  images.append(imageio.imread('temp.jpg'))\n",
      "/tmp/ipykernel_6369/2612335963.py:7: DeprecationWarning: Starting with ImageIO v3 the behavior of this function will switch to that of iio.v3.imread. To keep the current behavior (and make this warning disappear) use `import imageio.v2 as imageio` or call `imageio.v2.imread` directly.\n",
      "  images.append(imageio.imread('temp.jpg'))\n",
      "/tmp/ipykernel_6369/2612335963.py:7: DeprecationWarning: Starting with ImageIO v3 the behavior of this function will switch to that of iio.v3.imread. To keep the current behavior (and make this warning disappear) use `import imageio.v2 as imageio` or call `imageio.v2.imread` directly.\n",
      "  images.append(imageio.imread('temp.jpg'))\n",
      "/tmp/ipykernel_6369/2612335963.py:7: DeprecationWarning: Starting with ImageIO v3 the behavior of this function will switch to that of iio.v3.imread. To keep the current behavior (and make this warning disappear) use `import imageio.v2 as imageio` or call `imageio.v2.imread` directly.\n",
      "  images.append(imageio.imread('temp.jpg'))\n",
      "/tmp/ipykernel_6369/2612335963.py:7: DeprecationWarning: Starting with ImageIO v3 the behavior of this function will switch to that of iio.v3.imread. To keep the current behavior (and make this warning disappear) use `import imageio.v2 as imageio` or call `imageio.v2.imread` directly.\n",
      "  images.append(imageio.imread('temp.jpg'))\n",
      "/tmp/ipykernel_6369/2612335963.py:7: DeprecationWarning: Starting with ImageIO v3 the behavior of this function will switch to that of iio.v3.imread. To keep the current behavior (and make this warning disappear) use `import imageio.v2 as imageio` or call `imageio.v2.imread` directly.\n",
      "  images.append(imageio.imread('temp.jpg'))\n",
      "/tmp/ipykernel_6369/2612335963.py:7: DeprecationWarning: Starting with ImageIO v3 the behavior of this function will switch to that of iio.v3.imread. To keep the current behavior (and make this warning disappear) use `import imageio.v2 as imageio` or call `imageio.v2.imread` directly.\n",
      "  images.append(imageio.imread('temp.jpg'))\n",
      "/tmp/ipykernel_6369/2612335963.py:7: DeprecationWarning: Starting with ImageIO v3 the behavior of this function will switch to that of iio.v3.imread. To keep the current behavior (and make this warning disappear) use `import imageio.v2 as imageio` or call `imageio.v2.imread` directly.\n",
      "  images.append(imageio.imread('temp.jpg'))\n",
      "/tmp/ipykernel_6369/2612335963.py:7: DeprecationWarning: Starting with ImageIO v3 the behavior of this function will switch to that of iio.v3.imread. To keep the current behavior (and make this warning disappear) use `import imageio.v2 as imageio` or call `imageio.v2.imread` directly.\n",
      "  images.append(imageio.imread('temp.jpg'))\n",
      "/tmp/ipykernel_6369/2612335963.py:7: DeprecationWarning: Starting with ImageIO v3 the behavior of this function will switch to that of iio.v3.imread. To keep the current behavior (and make this warning disappear) use `import imageio.v2 as imageio` or call `imageio.v2.imread` directly.\n",
      "  images.append(imageio.imread('temp.jpg'))\n",
      "/tmp/ipykernel_6369/2612335963.py:7: DeprecationWarning: Starting with ImageIO v3 the behavior of this function will switch to that of iio.v3.imread. To keep the current behavior (and make this warning disappear) use `import imageio.v2 as imageio` or call `imageio.v2.imread` directly.\n",
      "  images.append(imageio.imread('temp.jpg'))\n"
     ]
    }
   ],
   "source": [
    "import os\n",
    "# Generate the GIF\n",
    "generate_gif(history, 'evolution.gif')"
   ]
  }
 ],
 "metadata": {
  "kernelspec": {
   "display_name": "Python 3",
   "language": "python",
   "name": "python3"
  },
  "language_info": {
   "codemirror_mode": {
    "name": "ipython",
    "version": 3
   },
   "file_extension": ".py",
   "mimetype": "text/x-python",
   "name": "python",
   "nbconvert_exporter": "python",
   "pygments_lexer": "ipython3",
   "version": "3.10.12"
  }
 },
 "nbformat": 4,
 "nbformat_minor": 2
}
